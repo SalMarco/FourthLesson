{
 "cells": [
  {
   "cell_type": "markdown",
   "metadata": {
    "hideCode": false,
    "hidePrompt": false,
    "slideshow": {
     "slide_type": "slide"
    }
   },
   "source": [
    "Introduction to Python\n",
    "================================\n",
    "\n",
    "Lesson 3 - Part1\n",
    "--------"
   ]
  },
  {
   "cell_type": "markdown",
   "metadata": {
    "hideCode": false,
    "hidePrompt": false,
    "slideshow": {
     "slide_type": "slide"
    }
   },
   "source": [
    "## Summary \n",
    "\n",
    "In this lesson we will explore a little more in dept some aspects of Keras and neural networks.\n",
    "The topis that we'll cover in this lesson are:\n",
    "\n",
    "  - Dropout\n",
    "  - Grid Search\n",
    "  - \n",
    "  \n",
    "But before starting with the real Lesson let's make a little bit of advertising. "
   ]
  },
  {
   "cell_type": "markdown",
   "metadata": {
    "slideshow": {
     "slide_type": "slide"
    }
   },
   "source": [
    "Advertising\n",
    "---"
   ]
  },
  {
   "cell_type": "markdown",
   "metadata": {
    "slideshow": {
     "slide_type": "slide"
    }
   },
   "source": [
    "## Keep in touch #1\n",
    "\n",
    "If some of you are interested in a stage/work as data scientist in Leroy Merlin please contact me at:\n",
    "\n",
    "  - marco.saletta@leroymerlin.it\n",
    "\n",
    "Now it's being created a data science unit and maybe we can work together.  "
   ]
  },
  {
   "cell_type": "markdown",
   "metadata": {
    "slideshow": {
     "slide_type": "slide"
    }
   },
   "source": [
    "## Keep in touch #2\n",
    "\n",
    "The datascience environment (and the media/digital in general) in Milan is very small place and contacts are very important.\n",
    "\n",
    "If you are looking for a looking for a job, and you are not interested in Leroy Merlin, maybe let me know at\n",
    "\n",
    "  - marco.saletta@gmail.com\n",
    "\n",
    "Often someone asks me if I know a datascientis who is looking for a job."
   ]
  },
  {
   "cell_type": "markdown",
   "metadata": {
    "slideshow": {
     "slide_type": "slide"
    }
   },
   "source": [
    "## Keep in touch #3\n",
    "\n",
    "In Milan there are many events related to datascience that are good for keeping up to date and being involved in the community.\n",
    "\n",
    "The two I want to address to you are:\n",
    "\n",
    "  - [Data Beers Milan](https://www.meetup.com/it-IT/DataBeers-Milano/?_cookie-check=ma6kEV7Q72i7FAiv): free beers and funny datascience talks\n",
    "  - [Data Science Milan](http://datasciencemilan.org/): nice talks with industrial sponsors "
   ]
  },
  {
   "cell_type": "markdown",
   "metadata": {
    "slideshow": {
     "slide_type": "slide"
    }
   },
   "source": [
    "Let's start with the lesson\n",
    "----"
   ]
  },
  {
   "cell_type": "markdown",
   "metadata": {
    "hideCode": false,
    "hidePrompt": false,
    "slideshow": {
     "slide_type": "slide"
    }
   },
   "source": [
    "## Droptout\n",
    "\n",
    "Dropout is a method often used on neural networks in order to avoid/reduce orverfitting.\n",
    "\n",
    "The idea is to randomly shut down some neurons at each iteration in order to make them less relevant for the network.   \n",
    "\n",
    "For this dropout is a layer itself, as you can see from the [Keras docs](https://keras.io/layers/core/), that we put on top of another layer.\n",
    "\n",
    "Let's see how we can improve the network that we have created for the **mnist** classification task last lesson."
   ]
  },
  {
   "cell_type": "markdown",
   "metadata": {
    "hideCode": false,
    "hidePrompt": false,
    "slideshow": {
     "slide_type": "slide"
    }
   },
   "source": [
    "## Re-factoring\n",
    "\n",
    "In order to improve the code even more, we'll make a little bit of re-factoring and re-write it using Python Classes.\n",
    "\n",
    "**NOTE**: please note how the names of classes and function are written. As you can see \n",
    "\n",
    "  - every class has a name that starts with a **uppercase** letter\n",
    "  - every function has a name that starts with a **lowercase** letter\n",
    "  \n",
    "This is due to a style convention used in Python coding called [pep8](https://www.python.org/dev/peps/pep-0008/)."
   ]
  },
  {
   "cell_type": "code",
   "execution_count": 35,
   "metadata": {
    "hideCode": false,
    "hidePrompt": false,
    "slideshow": {
     "slide_type": "subslide"
    }
   },
   "outputs": [
    {
     "name": "stdout",
     "output_type": "stream",
     "text": [
      "Extracting /tmp/data/train-images-idx3-ubyte.gz\n",
      "Extracting /tmp/data/train-labels-idx1-ubyte.gz\n",
      "Extracting /tmp/data/t10k-images-idx3-ubyte.gz\n",
      "Extracting /tmp/data/t10k-labels-idx1-ubyte.gz\n",
      "Train on 55000 samples, validate on 10000 samples\n",
      "Epoch 1/15\n",
      "55000/55000 [==============================] - 8s 148us/step - loss: 0.2990 - acc: 0.9091 - mean_absolute_error: 0.0283 - val_loss: 0.1074 - val_acc: 0.9658 - val_mean_absolute_error: 0.0102\n",
      "Epoch 2/15\n",
      "55000/55000 [==============================] - 8s 153us/step - loss: 0.1233 - acc: 0.9629 - mean_absolute_error: 0.0115 - val_loss: 0.0826 - val_acc: 0.9755 - val_mean_absolute_error: 0.0080\n",
      "Epoch 3/15\n",
      "55000/55000 [==============================] - 8s 146us/step - loss: 0.0921 - acc: 0.9716 - mean_absolute_error: 0.0087 - val_loss: 0.0676 - val_acc: 0.9789 - val_mean_absolute_error: 0.0060\n",
      "Epoch 4/15\n",
      "55000/55000 [==============================] - 8s 139us/step - loss: 0.0733 - acc: 0.9772 - mean_absolute_error: 0.0069 - val_loss: 0.0897 - val_acc: 0.9741 - val_mean_absolute_error: 0.0069\n",
      "Epoch 5/15\n",
      "55000/55000 [==============================] - 8s 143us/step - loss: 0.0611 - acc: 0.9803 - mean_absolute_error: 0.0058 - val_loss: 0.0795 - val_acc: 0.9775 - val_mean_absolute_error: 0.0058\n",
      "Epoch 6/15\n",
      "55000/55000 [==============================] - 7s 132us/step - loss: 0.0549 - acc: 0.9829 - mean_absolute_error: 0.0051 - val_loss: 0.0706 - val_acc: 0.9799 - val_mean_absolute_error: 0.0051\n",
      "Epoch 7/15\n",
      "55000/55000 [==============================] - 8s 140us/step - loss: 0.0498 - acc: 0.9849 - mean_absolute_error: 0.0046 - val_loss: 0.0608 - val_acc: 0.9836 - val_mean_absolute_error: 0.0043\n",
      "Epoch 8/15\n",
      "55000/55000 [==============================] - 7s 131us/step - loss: 0.0406 - acc: 0.9875 - mean_absolute_error: 0.0039 - val_loss: 0.0669 - val_acc: 0.9815 - val_mean_absolute_error: 0.0045\n",
      "Epoch 9/15\n",
      "55000/55000 [==============================] - 8s 150us/step - loss: 0.0386 - acc: 0.9878 - mean_absolute_error: 0.0036 - val_loss: 0.0666 - val_acc: 0.9834 - val_mean_absolute_error: 0.0040\n",
      "Epoch 10/15\n",
      "55000/55000 [==============================] - 8s 137us/step - loss: 0.0390 - acc: 0.9877 - mean_absolute_error: 0.0036 - val_loss: 0.0834 - val_acc: 0.9782 - val_mean_absolute_error: 0.0054\n",
      "Epoch 11/15\n",
      "55000/55000 [==============================] - 8s 154us/step - loss: 0.0334 - acc: 0.9893 - mean_absolute_error: 0.0031 - val_loss: 0.0586 - val_acc: 0.9838 - val_mean_absolute_error: 0.0043\n",
      "Epoch 12/15\n",
      "55000/55000 [==============================] - 7s 134us/step - loss: 0.0315 - acc: 0.9895 - mean_absolute_error: 0.0030 - val_loss: 0.0681 - val_acc: 0.9825 - val_mean_absolute_error: 0.0044\n",
      "Epoch 13/15\n",
      "55000/55000 [==============================] - 7s 135us/step - loss: 0.0301 - acc: 0.9910 - mean_absolute_error: 0.0027 - val_loss: 0.0627 - val_acc: 0.9837 - val_mean_absolute_error: 0.0042\n",
      "Epoch 14/15\n",
      "55000/55000 [==============================] - 8s 139us/step - loss: 0.0275 - acc: 0.9913 - mean_absolute_error: 0.0025 - val_loss: 0.0668 - val_acc: 0.9831 - val_mean_absolute_error: 0.0039\n",
      "Epoch 15/15\n",
      "55000/55000 [==============================] - 8s 137us/step - loss: 0.0278 - acc: 0.9915 - mean_absolute_error: 0.0025 - val_loss: 0.0646 - val_acc: 0.9836 - val_mean_absolute_error: 0.0041\n",
      "10000/10000 [==============================] - 1s 64us/step\n",
      "\n",
      "acc: 98.36%\n",
      "['loss', 'acc', 'mean_absolute_error']\n"
     ]
    },
    {
     "data": {
      "image/png": "[encoded data removed]",
      "text/plain": [
       "<Figure size 432x288 with 3 Axes>"
      ]
     },
     "metadata": {},
     "output_type": "display_data"
    }
   ],
   "source": [
    "import pandas as pd\n",
    "import numpy as np\n",
    "from keras.models import Sequential\n",
    "from keras.layers import Dense, Dropout\n",
    "from keras.layers import advanced_activations\n",
    "from keras.optimizers import Adam\n",
    "from tensorflow.examples.tutorials.mnist import input_data\n",
    "from matplotlib import pyplot as plt\n",
    "\n",
    "# Parameters\n",
    "learning_rate = 0.001\n",
    "num_steps = 15\n",
    "batch_size = 128\n",
    "\n",
    "# Network Parameters\n",
    "n_hidden_1 = 256 # 1st layer number of neurons\n",
    "n_hidden_2 = 256 # 2nd layer number of neurons\n",
    "num_input = 784 # MNIST data input (img shape: 28*28)\n",
    "num_classes = 10 # MNIST total classes (0-9 digits)\n",
    "\n",
    "metrics = ['accuracy','mae']\n",
    "\n",
    "\n",
    "class PrepareVariabiles:\n",
    "    def __init__(self):\n",
    "        self.mnist = input_data.read_data_sets(\"/tmp/data/\", one_hot=True)\n",
    "        \n",
    "        \n",
    "    def splitDatset(self):\n",
    "        X = self.mnist.train.images\n",
    "        Y = self.mnist.train.labels\n",
    "        X_test = self.mnist.test.images\n",
    "        Y_test = self.mnist.test.labels\n",
    "        return X,Y,X_test,Y_test\n",
    "    \n",
    "class CreateNN:\n",
    "    def __init__(self,**kargs):\n",
    "        self.activationFun = 'relu'\n",
    "        self.dropPerc = 0.25\n",
    "        self.X = kargs['x']\n",
    "        self.Y = kargs['y']\n",
    "        self.X_test = kargs['xt']\n",
    "        self.Y_test = kargs['yt']\n",
    "        \n",
    "        \n",
    "    def modelDefinition(self,useDropout=False):\n",
    "        self.model = Sequential()\n",
    "        self.model.add(Dense(num_input, input_dim=num_input,activation=self.activationFun))\n",
    "        if useDropout:\n",
    "            self.model.add(Dropout(self.dropPerc))\n",
    "        self.model.add(Dense(n_hidden_1,activation=self.activationFun))\n",
    "        if useDropout:\n",
    "            self.model.add(Dropout(self.dropPerc))\n",
    "        self.model.add(Dense(n_hidden_2,activation=self.activationFun))\n",
    "        if useDropout:\n",
    "            self.model.add(Dropout(self.dropPerc))\n",
    "        self.model.add(Dense(num_classes,activation='softmax'))\n",
    "        \n",
    "    def modelCompile(self):\n",
    "        adam = Adam(lr=learning_rate)\n",
    "        self.model.compile(loss='categorical_crossentropy', optimizer=adam,metrics=metrics)\n",
    "        \n",
    "    def modelEval(self):\n",
    "        history = self.model.fit(self.X, self.Y, epochs=num_steps, batch_size=batch_size,validation_data=(self.X_test,self.Y_test))#validation_split=0.05\n",
    "        scores = self.model.evaluate(self.X_test, self.Y_test)\n",
    "        return history,scores,self.model\n",
    "    \n",
    "class PlotGraphs:\n",
    "    def __init__(self,**kargs):\n",
    "        history= kargs['h']\n",
    "        self.history_dict = history.history\n",
    "        self.metList = []\n",
    "        for cur_key in history.history.keys():\n",
    "            if cur_key.find('val')!=0:\n",
    "                self.metList.append(cur_key)\n",
    "        print(self.metList)\n",
    "        self.lenList = len(self.metList)\n",
    "    \n",
    "    def plotResults(self):\n",
    "        plotPos = 1\n",
    "        for cur_met in self.metList:\n",
    "            cur_values = self.history_dict[cur_met]\n",
    "            cur_val = self.history_dict['val_%s'%cur_met]\n",
    "            epochs = range(1, len(cur_values) + 1)\n",
    "            plt.subplot(self.lenList, 1, plotPos)\n",
    "            plt.plot(epochs, cur_values, 'ro')\n",
    "            plt.plot(epochs, cur_val, 'b+')\n",
    "            plt.xlabel('Epochs')\n",
    "            plt.ylabel(cur_met)\n",
    "            plotPos += 1\n",
    "\n",
    "\n",
    "def main():\n",
    "    pv = PrepareVariabiles()\n",
    "    X, Y, X_test, Y_test = pv.splitDatset()\n",
    "    cnn = CreateNN(x=X,y=Y,xt=X_test,yt=Y_test)\n",
    "    cnn.modelDefinition(useDropout=True)#useDropout=True\n",
    "    cnn.modelCompile()\n",
    "    history, scores, model = cnn.modelEval()\n",
    "    print(\"\\n%s: %.2f%%\" % (model.metrics_names[1], scores[1]*100))\n",
    "    pg = PlotGraphs(h=history)\n",
    "    pg.plotResults()\n",
    "    return history\n",
    "history = main()"
   ]
  },
  {
   "cell_type": "code",
   "execution_count": 34,
   "metadata": {
    "hideCode": false,
    "hidePrompt": false,
    "slideshow": {
     "slide_type": "fragment"
    }
   },
   "outputs": [
    {
     "name": "stdout",
     "output_type": "stream",
     "text": [
      "loss\n",
      "acc\n",
      "mean_absolute_error\n"
     ]
    }
   ],
   "source": [
    "history.history.keys()\n",
    "for cur_key in history.history.keys():\n",
    "    if cur_key.find('val')!=0:\n",
    "        print(cur_key)"
   ]
  },
  {
   "cell_type": "markdown",
   "metadata": {
    "hideCode": false,
    "hidePrompt": false,
    "slideshow": {
     "slide_type": "slide"
    }
   },
   "source": [
    "## Grid Search \n",
    "\n",
    "The `grid search` is the names the `sklearn` uses to indicate the **hyper parameter optimization** ([form wiki](https://en.wikipedia.org/wiki/Hyperparameter_optimization)):\n",
    "\n",
    "*In machine learning, hyperparameter optimization or tuning is the problem of choosing a set of optimal hyperparameters for a learning algorithm.\n",
    "The same kind of machine learning model can require different constraints, weights or learning rates to generalize different data patterns. These measures are called hyperparameters, and have to be tuned so that the model can optimally solve the machine learning problem. Hyperparameter optimization finds a tuple of hyperparameters that yields an optimal model which minimizes a predefined loss function on given independent data. The objective function takes a tuple of hyperparameters and returns the associated loss. Cross-validation is often used to estimate this generalization performance.*\n",
    "\n",
    "The package that we'll use is `GridSearchCV` from `sklearn.model_selection` ([documentation page](http://scikit-learn.org/stable/modules/generated/sklearn.model_selection.GridSearchCV.html)).\n",
    "\n",
    "As you can see at main Sklearn's page about [Tuning Hyper Parameters](http://scikit-learn.org/stable/modules/grid_search.html), this is just one of the possibility that we have."
   ]
  },
  {
   "cell_type": "markdown",
   "metadata": {
    "slideshow": {
     "slide_type": "slide"
    }
   },
   "source": [
    "## Grid Search\n",
    "\n",
    "In order to make highlight some implementation's difference and make the code more general, we'll see how to use the grid search over two different kind of models:\n",
    "\n",
    "  - NN (`keras`)\n",
    "  - Random Forest (`sklearn`)\n",
    "  \n",
    "**NOTE**: Since all `sklearn` models have the same structure, the same code can be used for other algorithms.  "
   ]
  },
  {
   "cell_type": "code",
   "execution_count": null,
   "metadata": {},
   "outputs": [],
   "source": [
    "#general\n",
    "import os, traceback\n",
    "import sys\n",
    "import logging\n",
    "import random\n",
    "from pprint import pprint as pp\n",
    "import numpy as np\n",
    "import pandas as pd\n",
    "from datetime import datetime\n",
    "#Keras\n",
    "from keras.models import Sequential\n",
    "from keras.layers import Dense\n",
    "from keras.layers import advanced_activations\n",
    "from keras.models import model_from_json\n",
    "from keras.models import model_from_json\n",
    "from keras.models import load_model\n",
    "from keras.layers.advanced_activations import LeakyReLU\n",
    "from keras.layers import Dropout\n",
    "from keras.optimizers import SGD\n",
    "from keras.wrappers.scikit_learn import KerasClassifier\n",
    "#SKLearn\n",
    "from sklearn.model_selection import StratifiedKFold\n",
    "#from sklearn.cross_validation import PredefinedSplit\n",
    "from sklearn.model_selection import PredefinedSplit\n",
    "from sklearn.ensemble import RandomForestClassifier, ExtraTreesClassifier, RandomForestRegressor\n",
    "from sklearn.metrics import make_scorer\n",
    "from sklearn.metrics import accuracy_score,mean_squared_error,r2_score\n",
    "from sklearn.preprocessing import LabelEncoder\n",
    "from sklearn.externals import joblib\n",
    "\n",
    "\n",
    "logging.basicConfig(format='%(asctime)s : %(levelname)s : %(message)s', level=logging.INFO)\n",
    "logger = logging.getLogger('')\n",
    "\n",
    "\n",
    "# fix random seed for reproducibility\n",
    "seed = 7\n",
    "np.random.seed(seed)\n",
    "SEP='|'\n",
    "DEF_MODEL_NAME='best_model_grid'\n",
    "CAT_LIST=['categ']\n",
    "param_grid_RFC = dict(n_estimators=[20,50,100,200,],max_features=['auto',2,3,'sqrt'],max_depth=[5,10,15,20,None],min_samples_leaf=[1,10,25,50])\n",
    "batch_size = [10, 20]\n",
    "epochs = [10, 100]\n",
    "activation = ['softmax', 'softplus', 'softsign', 'relu', 'tanh', 'sigmoid', 'hard_sigmoid', 'linear']\n",
    "optimizer = ['SGD']#, 'RMSprop', 'Adagrad', 'Adadelta', 'Adam', 'Adamax', 'Nadam']\n",
    "param_grid_NN = dict(batch_size=batch_size, epochs=epochs,optimizer=optimizer)\n",
    "# param_grid_NN = dict(activation=['relu','tanh'])\n",
    "PARAM_DICT={'RFC':param_grid_RFC,'NN':param_grid_NN}\n",
    "\n",
    "TARGET_NAME='venduto_valore'\n",
    "\n",
    "\n",
    "\n",
    "#####################################################################\n",
    "\n",
    "\n",
    "class TestClass:\n",
    "\n",
    "    def __init__(self, **kargs):\n",
    "        self.conf = kargs['conf']\n",
    "        self.model_param = self.conf['model_param']\n",
    "        self.nameModel = kargs['nm']\n",
    "        self.numFeatures = kargs['nf']\n",
    "\n",
    "\n",
    "    def createModelNN(self,optimizer):\n",
    "        leng = self.numFeatures\n",
    "        model = Sequential()\n",
    "        # activation='tanh'\n",
    "        # if model_param['use_dropout']:\n",
    "        #     model.add(Dropout(model_param['drop'], input_shape=(leng,)))\n",
    "        model.add(Dense(leng, input_dim=leng))\n",
    "        #model.add(Dropout(model_param['drop'], input_shape=(leng,)))\n",
    "        model.add(Dense(30))\n",
    "        # if model_param['use_second_hidden']:\n",
    "        #     model.add(Dense(model_param['num_neur_hl2'], init='uniform', activation=activation_fun))\n",
    "        model.add(Dense(1,activation='sigmoid'))\n",
    "        # sgd = SGD(lr=model_param['lr'], momentum=model_param['momentum'], decay=0.0, nesterov=False)\n",
    "        #sgd=\"SGD\"\n",
    "        model.compile(loss='binary_crossentropy', optimizer='adam', metrics=['accuracy'])\n",
    "        #model.fit(X, Y, nb_epoch=numEpoch, batch_size=10)\n",
    "        return model\n",
    "\n",
    "    def createModelRFC(self):\n",
    "        logger.info(\"DEFINITION OF THE MODEL RFC\")\n",
    "        # model = ExtraTreesClassifier(n_estimators=self.model_param['n_estimators'],max_features=self.model_param['max_features'],n_jobs=-1)\n",
    "        # model = RandomForestClassifier(n_jobs=-1),\n",
    "        model = RandomForestRegressor(n_jobs=-1)\n",
    "        logger.info(\"MODEL PARAMS: %s\",model.get_params(deep=True))\n",
    "        return model\n",
    "\n",
    "\n",
    "def gridSearch(model,param_grid,cv,X,Y,scoring):\n",
    "    if cv:\n",
    "        logger.info(\"USING CUSTOM CV\")\n",
    "        grid = GridSearchCV(estimator=model, param_grid=param_grid, n_jobs=1,cv=cv)\n",
    "    else:\n",
    "        logger.info(\"USIGN NORMAL CV\")\n",
    "        grid = GridSearchCV(estimator=model, param_grid=param_grid, n_jobs=-1,scoring=scoring,refit='RMS')\n",
    "        # grid = GridSearchCV(estimator=model, param_grid=param_grid, n_jobs=3,scoring=scoring,refit='RMS')\n",
    "    logger.info(\"START GRID SEARCH\")\n",
    "    print(\"X\",X)\n",
    "    print(\"Y\",Y)\n",
    "    grid_result = grid.fit(X,Y)\n",
    "    logger.info(\"END GRID SEARCH\")\n",
    "    return grid_result\n",
    "\n",
    "    def gridResults(grid_result,X,nameModel):\n",
    "    logger.info(\"Best: %f using %s\" % (grid_result.best_score_, grid_result.best_params_))\n",
    "    print(sorted(grid_result.cv_results_.keys()))\n",
    "    if nameModel == \"RFC\":\n",
    "        importances = grid_result.best_estimator_.feature_importances_\n",
    "    if nameModel=='SVC':\n",
    "        importances = grid_result.best_estimator_.coef_[0]\n",
    "    if nameModel != 'NN':\n",
    "        df_imp = pd.DataFrame({'features': X.columns.tolist(),'importances':importances})\n",
    "        df_imp.sort_values(by=\"importances\",ascending=False,inplace=True)\n",
    "        print(df_imp)\n",
    "\n",
    "def evalActivationFun(activation_fun):\n",
    "    if activation_fun.find('advanced_activations')==-1:\n",
    "        return activation_fun\n",
    "    else:\n",
    "        return eval(activation_fun)\n",
    "\n",
    "def SaveModel(nameModel,grid_result):\n",
    "    if nameModel=='NN':\n",
    "        outFile='%s_%s.%s'%(DEF_MODEL_NAME,nameModel,\"h5\")\n",
    "    else:\n",
    "        outFile='%s_%s.%s'%(DEF_MODEL_NAME,nameModel,\"pkl\")\n",
    "    joblib.dump(grid_result.best_estimator_,outFile)\n",
    "    logger.info(\"SAVED BEST MODEL IN %s\",outFile)\n",
    "\n",
    "def readFile(inFile):\n",
    "    df = pd.read_csv(inFile,delimiter=SEP)\n",
    "\n",
    "    # df['targetBOOL'] = df.apply(lambda x: 1 if x['target']=='Best' else 0,axis=1)\n",
    "    Y = df[TARGET_NAME]\n",
    "    for cur_col in df.columns:\n",
    "        t = df[cur_col].dtype\n",
    "        print('cur_col, type',cur_col,t)\n",
    "        if t != np.float64 and t != np.int64 and t!= np.bool:\n",
    "            logger.info('making convertion for %s',cur_col)\n",
    "            # le = LabelEncoder()\n",
    "            # le.fit(df[cur_col])\n",
    "            # df[cur_col] = le.transform(df[cur_col])\n",
    "            df[cur_col] = df[cur_col].astype('category').cat.codes\n",
    "            logger.info('end convertion for %s',cur_col)\n",
    "    # for cur_col in CAT_LIST:\n",
    "    #     le = LabelEncoder()\n",
    "    #     le.fit(df[cur_col])\n",
    "    #     df[cur_col] = le.transform(df[cur_col])\n",
    "    # df.drop([TARGET_NAME,'venduto','classifica','venduto_1','classifica_1','delta','fotografia','se_no_perché','data','venduto_cp','new','fatte','n_pro_gr_dl','ispettore','agenzia','codice'],inplace=True,axis=1)\n",
    "    df.drop([TARGET_NAME],inplace=True,axis=1)\n",
    "    # df_out = df[['subtitles_insert_rel','extended_body_delete_rel','unique_subtitles_insert_rel','extended_body_insert_rel','unique_extended_body_delete_rel','body_delete_rel','body_equal_rel','extended_body_equal_rel']]\n",
    "    X = df\n",
    "    logger.info(\"SHAPE OF X:%s AND Y:%s\",X.shape,Y.shape)\n",
    "    len_train=X.shape[0]\n",
    "    numFeatures = X.shape[1]\n",
    "    X.fillna(value=0,inplace=True)\n",
    "    print(X.dtypes)\n",
    "    print(X)\n",
    "    return X, Y, len_train, numFeatures\n",
    "\n",
    "\n",
    "def main(argv):\n",
    "    start_time = datetime.now()\n",
    "    logger.info(\"START\")\n",
    "    args = argparser.parse_args()\n",
    "    inFile = args.inFile\n",
    "    testFile = args.testFile\n",
    "    nameModel = args.nameModel\n",
    "    conf_file = args.mod\n",
    "    mod = __import__(conf_file, fromlist=['*'])\n",
    "    model_conf=mod.gridSearch_Model_types[nameModel]\n",
    "    conf = getattr(__import__(conf_file, fromlist=[model_conf]), model_conf)\n",
    "    prefix_dict=conf['prefix_dict']\n",
    "    out_dict=h.outfileName(fo=args.outFile,fi=inFile,prefix_dict=prefix_dict,add_date=True)\n",
    "    logger.info(\"RUNNING WITH MOD: %s, INFILE: %s\"%(conf_file,inFile))\n",
    "    logger.info(\"LOADING THE DATA SET\")\n",
    "    param_grid = PARAM_DICT[nameModel]\n",
    "    # scoring = {'Accuracy': make_scorer(accuracy_score),'RMS':make_scorer(mean_squared_error)}\n",
    "    scoring = {'RMS':make_scorer(r2_score)}\n",
    "    X, Y, len_train, numFeatures = readFile(inFile)\n",
    "    cv = None\n",
    "    logger.info(\"CREATION OF THE MODEL\")\n",
    "    t=TestClass(conf=conf,nm=nameModel,nf=numFeatures)\n",
    "    if nameModel == 'NN':\n",
    "        model = KerasClassifier(build_fn=t.createModelNN)\n",
    "        X = X.as_matrix()\n",
    "        Y = Y.as_matrix()\n",
    "    else:\n",
    "        model = t.createModelRFC()\n",
    "    logger.info(\"START GRID SEARCH\")\n",
    "    grid_result = gridSearch(model,param_grid,cv,X,Y,scoring)\n",
    "    logger.info(\"END OF GRID SEARCH\")\n",
    "    logger.info(\"PRINTING RESULTS\")\n",
    "    gridResults(grid_result,X,nameModel)\n",
    "    SaveModel(nameModel,grid_result)\n",
    "    logger.info(\"EXECUTED IN %f SEC\"%((datetime.now()-start_time)).total_seconds())\n",
    "    logger.info(\"END\")\n"
   ]
  }
 ],
 "metadata": {
  "celltoolbar": "Slideshow",
  "hide_code_all_hidden": false,
  "kernelspec": {
   "display_name": "Python 3",
   "language": "python",
   "name": "python3"
  },
  "language_info": {
   "codemirror_mode": {
    "name": "ipython",
    "version": 3
   },
   "file_extension": ".py",
   "mimetype": "text/x-python",
   "name": "python",
   "nbconvert_exporter": "python",
   "pygments_lexer": "ipython3",
   "version": "3.6.5"
  },
  "toc": {
   "base_numbering": 1,
   "nav_menu": {},
   "number_sections": false,
   "sideBar": false,
   "skip_h1_title": false,
   "title_cell": "Table of Contents",
   "title_sidebar": "Contents",
   "toc_cell": false,
   "toc_position": {},
   "toc_section_display": false,
   "toc_window_display": false
  }
 },
 "nbformat": 4,
 "nbformat_minor": 2
}
